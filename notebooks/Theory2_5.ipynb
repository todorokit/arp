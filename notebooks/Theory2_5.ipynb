{
 "cells": [
  {
   "cell_type": "markdown",
   "id": "a612761e",
   "metadata": {},
   "source": [
    "(メモレベル)\n",
    "\n",
    "未実装\n",
    "\n",
    "### 最小\n",
    "\n",
    "- 最小限主義\n",
    "    - 重要事項を行う\n",
    "    - 始まりの始まりは最小限でも、遠回りして本質を探る\n",
    "    - 問題は解決すること\n",
    "\n",
    "### 自動\n",
    "\n",
    "- プログラミング\n",
    "- 産業ロボット\n",
    "\n",
    "### 部品化\n",
    "\n",
    "- 誤り訂正・補正\n",
    "    - 100%じゃないものを100%成功させるために工夫する\n",
    "- 多くの人での検証\n",
    "    - 科学等の査読\n",
    "    - 追試\n",
    "    - [参考wikipdia：科学的方法](https://ja.wikipedia.org/wiki/%E7%A7%91%E5%AD%A6%E7%9A%84%E6%96%B9%E6%B3%95)\n",
    "- 手厚いテスト（品質テスト）\n",
    "    - 自動化による網羅性があると完全部品\n",
    "    - カバレッジ\n",
    "    - all-pair 法等\n"
   ]
  }
 ],
 "metadata": {
  "kernelspec": {
   "display_name": "Python 3 (ipykernel)",
   "language": "python",
   "name": "python3"
  },
  "language_info": {
   "codemirror_mode": {
    "name": "ipython",
    "version": 3
   },
   "file_extension": ".py",
   "mimetype": "text/x-python",
   "name": "python",
   "nbconvert_exporter": "python",
   "pygments_lexer": "ipython3",
   "version": "3.9.7"
  }
 },
 "nbformat": 4,
 "nbformat_minor": 5
}
