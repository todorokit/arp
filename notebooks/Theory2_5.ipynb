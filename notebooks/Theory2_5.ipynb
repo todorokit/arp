{
 "cells": [
  {
   "cell_type": "markdown",
   "id": "a612761e",
   "metadata": {},
   "source": [
    "(メモレベル)\n",
    "\n",
    "### 最小\n",
    "\n",
    "- 最小限主義？\n",
    "    - 始まりは最小限につくると良い。\n",
    "        - 始まりの始まりは最小限といっても、ちょっと遠回りして、本質を探ろう\n",
    "    - ただし、問題は解決すること。\n",
    "\n",
    "### 自動\n",
    "\n",
    "- プログラミング\n",
    "- 産業ロボット\n",
    "\n",
    "### 部品化\n",
    "\n",
    "- 誤り訂正\n",
    "- 多くの人での検証(検証方法に注意)\n",
    "- 手厚いテスト（品質テスト）\n"
   ]
  }
 ],
 "metadata": {
  "kernelspec": {
   "display_name": "Python 3 (ipykernel)",
   "language": "python",
   "name": "python3"
  },
  "language_info": {
   "codemirror_mode": {
    "name": "ipython",
    "version": 3
   },
   "file_extension": ".py",
   "mimetype": "text/x-python",
   "name": "python",
   "nbconvert_exporter": "python",
   "pygments_lexer": "ipython3",
   "version": "3.9.7"
  }
 },
 "nbformat": 4,
 "nbformat_minor": 5
}
