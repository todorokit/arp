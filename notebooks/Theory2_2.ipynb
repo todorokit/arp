{
 "cells": [
  {
   "cell_type": "markdown",
   "id": "f5d67d68",
   "metadata": {},
   "source": [
    "## 合成\n",
    "\n",
    "未実装\n",
    "\n",
    "### 遺伝的アルゴリズム\n",
    "\n",
    "遺伝子を交換して合成して、適したものが生き残る\n",
    "\n",
    "- 頭の中ではできてますが、研究不足です\n",
    "- 突然変異があるが、実際の確率はかなり低いらしいです\n",
    "- 男女比50:50(55:45)の理由\n",
    "    - 男が増えれば、男は減りやすく、女が増えれば、女は減りやすく (フィードバック制御的に安定するため)\n",
    "        - 50%という数値根拠について\n",
    "\n",
    "### 会話等の情報交換\n",
    "\n",
    "- 証拠・根拠があるとよい\n",
    "- 嘘を見抜けると良い\n",
    "- 脳としては2つの情報を合成しているようにもみえるぐらいの意味です\n",
    "- 質問してやりとりする、考えをまとめてチャットする\n",
    "- グループの中の平均に収束するとかしないとか\n",
    "\n",
    "### 真似。再発明。\n",
    "\n",
    "- 創作のテクニックとして何となく似てるという理由で採用\n"
   ]
  }
 ],
 "metadata": {
  "kernelspec": {
   "display_name": "Python 3 (ipykernel)",
   "language": "python",
   "name": "python3"
  },
  "language_info": {
   "codemirror_mode": {
    "name": "ipython",
    "version": 3
   },
   "file_extension": ".py",
   "mimetype": "text/x-python",
   "name": "python",
   "nbconvert_exporter": "python",
   "pygments_lexer": "ipython3",
   "version": "3.9.7"
  }
 },
 "nbformat": 4,
 "nbformat_minor": 5
}
