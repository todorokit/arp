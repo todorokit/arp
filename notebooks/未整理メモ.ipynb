{
 "cells": [
  {
   "cell_type": "markdown",
   "id": "60920e0b",
   "metadata": {},
   "source": [
    "## リンク\n",
    "\n",
    "### 宇宙\n",
    "\n",
    "- [宇宙ヤバイch](https://www.youtube.com/c/uchuyabaich)\n",
    "\n",
    "### 神経科学\n",
    "\n",
    "- [日本神経科学学会市民公開企画](https://www.youtube.com/channel/UCXz3WEsvjb7uRP3amPRZoUA)\n",
    "\n",
    "### 生物\n",
    "\n",
    "- [へんないきものチャンネル ](https://www.youtube.com/channel/UC6SEj6I-vKEL9tL5aAHHyZg)\n",
    "- [こはやし【古生物ちゃんねる】](https://www.youtube.com/channel/UC63bJhINPNyZKTV0R8tIlrw)\n",
    "\n",
    "### 雑学\n",
    "\n",
    "- [ニコニコ動画：奇書](https://www.nicovideo.jp/tag/%E5%A5%87%E6%9B%B8)\n",
    "- [【ゆっくり解説】ヤバい雑学まとめチャンネル](https://www.youtube.com/channel/UCaas2ujvYwqS1yxpne6p2Fw)\n",
    "   "
   ]
  },
  {
   "cell_type": "markdown",
   "id": "2d18c5a9",
   "metadata": {},
   "source": [
    "### プログラミング\n",
    "[大規模Webアプリケーションにおける複雑性とアーキテクチャ設計に関する一考察](https://qiita.com/tmknom/items/be5c4b350f561991f2f5)\n",
    "\n",
    "### PM\n",
    "[これがNASA流の仕事術、「プロジェクトマネージャーが守るべきルール100」が公開される](https://gigazine.net/news/20140908-nasa-hundred-rules/)\n",
    "\n",
    "### AI\n",
    "[AI-SCHOLAR](https://ai-scholar.tech/)\n"
   ]
  },
  {
   "cell_type": "markdown",
   "id": "6c230626",
   "metadata": {},
   "source": [
    "## 思い付きメモ\n",
    "\n",
    "### 目的のある会話\n",
    "\n",
    "- 私に目的がある。交渉材料がある。相手に望む目的がある。必要条件がある。\n",
    "- 相手の立場を考え仮説を立てる。相手の望みを考える。\n",
    "- 仮説に基づき相手の立場を調べ質問し認識し、必要条件をすり合わせする。\n",
    "- 目的を説明、相談、お願い、トレードする。すり合わせする。\n",
    "- お互い良かったか確認する。\n",
    "\n",
    "### 農業のようにITの1次産業になっているようなオープンソース\n",
    "\n",
    "- 命のように大事ともとれる。\n",
    "\n"
   ]
  }
 ],
 "metadata": {
  "kernelspec": {
   "display_name": "Python 3 (ipykernel)",
   "language": "python",
   "name": "python3"
  },
  "language_info": {
   "codemirror_mode": {
    "name": "ipython",
    "version": 3
   },
   "file_extension": ".py",
   "mimetype": "text/x-python",
   "name": "python",
   "nbconvert_exporter": "python",
   "pygments_lexer": "ipython3",
   "version": "3.9.7"
  }
 },
 "nbformat": 4,
 "nbformat_minor": 5
}
