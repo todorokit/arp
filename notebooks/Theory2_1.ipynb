{
 "cells": [
  {
   "cell_type": "markdown",
   "id": "eec1a616",
   "metadata": {},
   "source": [
    "## 再急降下法 勾配降下法\n",
    "\n",
    "未実装\n",
    "\n",
    "近くの内一番いいものを選び続ける。いいものがなくなると終わり。\n",
    "\n",
    "近くが微分値だとニュートンラプソン法となる。\n",
    "\n",
    "- 概念\n",
    "    - 局所解\n",
    "    - 目先の利益(に似てる)\n",
    "    - 超高速最適化\n",
    "    - 微分制御、オーバーシュート（制御工学）:速すぎると、強く追い越してしまう。戻ろうとして、本末転倒になってしてしまう。\n"
   ]
  },
  {
   "cell_type": "markdown",
   "id": "be992dc4",
   "metadata": {},
   "source": [
    "## ニューラルネットワーク\n",
    "\n",
    "入力がある。答えがある。中間に膨大な空間がある。入力と答えを経験（教師データ：評価）として、全ての経験で、ニュートンラプソン法をして中間を鍛える。\n",
    "\n",
    "- 概念\n",
    "    - 汎化（さまざまな局面に対応できる）\n",
    "    - 過剰適応（同じことを何回も行うと汎化が弱くなる）\n",
    "    - 初期値に強く依存する（近傍に答えが無くてはいけない\n",
    "    - 膨大な計算"
   ]
  },
  {
   "cell_type": "markdown",
   "id": "2c1a2052",
   "metadata": {},
   "source": [
    "## ディープラーニングのコア部分\n",
    "\n",
    "特徴抽出の方法として、隣のデータに意味があるする。自動で隣の隣なども拡張できる。それらを組み合わせることも自動でできる。これをニューラルネットワークの理論で最適化する。\n",
    "\n",
    "- 概念\n",
    "    - 高い特徴抽出（特徴のユニークさと組み合わせ）\n",
    "    - 超膨大な計算"
   ]
  }
 ],
 "metadata": {
  "kernelspec": {
   "display_name": "Python 3 (ipykernel)",
   "language": "python",
   "name": "python3"
  },
  "language_info": {
   "codemirror_mode": {
    "name": "ipython",
    "version": 3
   },
   "file_extension": ".py",
   "mimetype": "text/x-python",
   "name": "python",
   "nbconvert_exporter": "python",
   "pygments_lexer": "ipython3",
   "version": "3.9.7"
  }
 },
 "nbformat": 4,
 "nbformat_minor": 5
}
