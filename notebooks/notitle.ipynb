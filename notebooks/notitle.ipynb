{
 "cells": [
  {
   "cell_type": "markdown",
   "id": "60920e0b",
   "metadata": {},
   "source": [
    "## リンク\n",
    "\n",
    "### 宇宙\n",
    "\n",
    "- [宇宙ヤバイch](https://www.youtube.com/c/uchuyabaich)\n",
    "\n",
    "### 神経科学\n",
    "\n",
    "- [日本神経科学学会市民公開企画](https://www.youtube.com/channel/UCXz3WEsvjb7uRP3amPRZoUA)\n",
    "\n",
    "### 遺伝\n",
    "\n",
    "- [「暗黒バエ」の暗闇適応に関わるゲノム配列の解析](https://www.kyoto-u.ac.jp/sites/default/files/embed/jaresearchresearch_results2015documents160308_401.pdf)\n",
    "\n",
    "### 生物\n",
    "\n",
    "- [へんないきものチャンネル ](https://www.youtube.com/channel/UC6SEj6I-vKEL9tL5aAHHyZg)\n",
    "- [こはやし【古生物ちゃんねる】](https://www.youtube.com/channel/UC63bJhINPNyZKTV0R8tIlrw)\n",
    "\n",
    "### 雑学\n",
    "\n",
    "- [ニコニコ動画：奇書](https://www.nicovideo.jp/tag/%E5%A5%87%E6%9B%B8)\n",
    "- [【ゆっくり解説】ヤバい雑学まとめチャンネル](https://www.youtube.com/channel/UCaas2ujvYwqS1yxpne6p2Fw)\n",
    "   "
   ]
  },
  {
   "cell_type": "markdown",
   "id": "2d18c5a9",
   "metadata": {},
   "source": [
    "### プログラミング\n",
    "[大規模Webアプリケーションにおける複雑性とアーキテクチャ設計に関する一考察](https://qiita.com/tmknom/items/be5c4b350f561991f2f5)\n",
    "\n",
    "### PM\n",
    "[これがNASA流の仕事術、「プロジェクトマネージャーが守るべきルール100」が公開される](https://gigazine.net/news/20140908-nasa-hundred-rules/)\n",
    "\n",
    "### AI\n",
    "[AI-SCHOLAR](https://ai-scholar.tech/)\n"
   ]
  },
  {
   "cell_type": "markdown",
   "id": "25f31d0b",
   "metadata": {},
   "source": [
    "[科学を変えた10のコンピューターコード](https://www.natureasia.com/ja-jp/ndigest/v18/n4/%E7%A7%91%E5%AD%A6%E3%82%92%E5%A4%89%E3%81%88%E3%81%9F10%E3%81%AE%E3%82%B3%E3%83%B3%E3%83%94%E3%83%A5%E3%83%BC%E3%82%BF%E3%83%BC%E3%82%B3%E3%83%BC%E3%83%89/107007?fbclid=IwAR1utNqqBUsaFxUd9MvNoI7r7t3tdpxvFWUNuzI5wAMROyUmp7_-pvHELzE#.YVzG4ejw5nw.facebook)\n",
    "\n",
    "- 計算ライブラリー：BLAS（1979年） \n",
    "- 高速学習：AlexNet（2012年）\n",
    "\n",
    "- BLAS\n",
    "    - 現代の計算はほぼ行列計算\n",
    "        - 行列の内積を分解し、分割統治し、最後に分割した対象を足し算で全部合せる\n",
    "        - メモリに性能と価格と容量があるので、高いメモリ容量に合わせ、次のメモリ容量に合わせるように分割する\n",
    "        - GPUはそれを並列で行う\n",
    "            - 並列は複数人でマルチタスクを処理すること\n",
    "            - CPUの分岐は、並列計算は単体ではほぼ不可能\n",
    "                - 分岐はif文\n",
    "            - 並列は結果を合わせる段階では何もできない\n"
   ]
  },
  {
   "cell_type": "markdown",
   "id": "6039fc9f",
   "metadata": {},
   "source": [
    "### 複素数\n",
    "\n",
    "- メイン軸に対して注目してない事象によるy軸\n",
    "- また、i*i = -1 となる\n",
    "- 振動系の e^(i*Θ)が強い意味を持ちます\n",
    "\n",
    "[外部：オイラーの公式](https://ja.wikipedia.org/wiki/%E3%82%AA%E3%82%A4%E3%83%A9%E3%83%BC%E3%81%AE%E5%85%AC%E5%BC%8F)\n"
   ]
  }
 ],
 "metadata": {
  "interpreter": {
   "hash": "5e026e95c28db242ea1db8e96d0e2cc2a607563ec55e952913c73a4570948090"
  },
  "kernelspec": {
   "display_name": "Python 3.9.5 64-bit",
   "name": "python3"
  },
  "language_info": {
   "codemirror_mode": {
    "name": "ipython",
    "version": 3
   },
   "file_extension": ".py",
   "mimetype": "text/x-python",
   "name": "python",
   "nbconvert_exporter": "python",
   "pygments_lexer": "ipython3",
   "version": "3.9.5"
  }
 },
 "nbformat": 4,
 "nbformat_minor": 5
}
