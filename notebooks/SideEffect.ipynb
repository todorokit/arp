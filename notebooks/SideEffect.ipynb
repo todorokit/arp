{
 "cells": [
  {
   "cell_type": "markdown",
   "metadata": {},
   "source": [
    "## 副作用\n",
    "\n",
    "予想されるもの\n",
    "\n",
    "- みんな似たことを考える\n",
    "    - （将来的なコンテンツも含め）1週間で終われば、個性豊かに\n",
    "\n",
    "- 感覚が重要な作業の感覚が曇る\n",
    "    - 体は考える前に動かなくてはいけない\n",
    "    - 脳も思考より前に体の指示のニューロンが発火するらしい\n"
   ]
  }
 ],
 "metadata": {
  "kernelspec": {
   "display_name": "Python 3 (ipykernel)",
   "language": "python",
   "name": "python3"
  },
  "language_info": {
   "codemirror_mode": {
    "name": "ipython",
    "version": 3
   },
   "file_extension": ".py",
   "mimetype": "text/x-python",
   "name": "python",
   "nbconvert_exporter": "python",
   "pygments_lexer": "ipython3",
   "version": "3.9.7"
  }
 },
 "nbformat": 4,
 "nbformat_minor": 2
}
