{
 "cells": [
  {
   "cell_type": "markdown",
   "id": "900014b5",
   "metadata": {},
   "source": [
    "## 評価\n",
    "\n",
    "未実装\n",
    "\n",
    "教師データ(人間による直接的な判断)無しの理論を書いてますが、書きかけです。\n",
    "\n",
    "### 成功\n",
    "\n",
    "- 強化学習\n",
    "    - 人が多く通った地面は道になるような考え方。\n",
    "    - 心理学：オペランド条件付け(説明省略) とかの考え方も近いかもしれません。\n",
    "    - 相対的に失敗を覚えるともいえるかもしれません。\n",
    "\n",
    "### 検索\n",
    "\n",
    "- PageRank\n",
    "    - 被参照数(実用度高い)の高いものを選ぶ。\n",
    "    - 人気のあるものを選ぶに近い。\n",
    "    - 人気を捏造できるものの客観性は高い。\n",
    "\n",
    "### 分析\n",
    "\n",
    "- 主成分分析\n",
    "    - 乱雑な情報に1番大事な軸、２番目に大事な軸がある。（表示的に3番目に大事なデータで限界かもしれません）\n",
    "    - 軸はデータに依存する。\n"
   ]
  }
 ],
 "metadata": {
  "kernelspec": {
   "display_name": "Python 3 (ipykernel)",
   "language": "python",
   "name": "python3"
  },
  "language_info": {
   "codemirror_mode": {
    "name": "ipython",
    "version": 3
   },
   "file_extension": ".py",
   "mimetype": "text/x-python",
   "name": "python",
   "nbconvert_exporter": "python",
   "pygments_lexer": "ipython3",
   "version": "3.9.7"
  }
 },
 "nbformat": 4,
 "nbformat_minor": 5
}
